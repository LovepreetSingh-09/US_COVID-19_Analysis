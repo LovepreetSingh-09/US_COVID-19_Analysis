{
 "cells": [
  {
   "cell_type": "code",
   "execution_count": 109,
   "metadata": {},
   "outputs": [],
   "source": [
    "import pandas as pd\n",
    "import matplotlib as mpl\n",
    "import matplotlib.pyplot as plt\n",
    "import seaborn as sns\n",
    "import numpy as np\n",
    "import matplotlib.dates as mdates\n",
    "size=15\n",
    "params = {'legend.fontsize': 'large',\n",
    "          'figure.figsize': (20,8),\n",
    "          'axes.labelsize': size,\n",
    "          'axes.titlesize': size,\n",
    "          'xtick.labelsize': size*0.75,\n",
    "          'ytick.labelsize': size*0.75,\n",
    "          'axes.titlepad': 25}\n",
    "mpl.rcParams.update(params)\n",
    "%matplotlib inline"
   ]
  },
  {
   "cell_type": "code",
   "execution_count": 39,
   "metadata": {},
   "outputs": [
    {
     "data": {
      "text/plain": [
       "['bmh',\n",
       " 'classic',\n",
       " 'dark_background',\n",
       " 'fast',\n",
       " 'fivethirtyeight',\n",
       " 'ggplot',\n",
       " 'grayscale',\n",
       " 'seaborn-bright',\n",
       " 'seaborn-colorblind',\n",
       " 'seaborn-dark-palette',\n",
       " 'seaborn-dark',\n",
       " 'seaborn-darkgrid',\n",
       " 'seaborn-deep',\n",
       " 'seaborn-muted',\n",
       " 'seaborn-notebook',\n",
       " 'seaborn-paper',\n",
       " 'seaborn-pastel',\n",
       " 'seaborn-poster',\n",
       " 'seaborn-talk',\n",
       " 'seaborn-ticks',\n",
       " 'seaborn-white',\n",
       " 'seaborn-whitegrid',\n",
       " 'seaborn',\n",
       " 'Solarize_Light2',\n",
       " 'tableau-colorblind10',\n",
       " '_classic_test']"
      ]
     },
     "execution_count": 39,
     "metadata": {},
     "output_type": "execute_result"
    }
   ],
   "source": [
    "plt.style.available"
   ]
  },
  {
   "cell_type": "code",
   "execution_count": 85,
   "metadata": {},
   "outputs": [],
   "source": [
    "plt.style.use('ggplot')"
   ]
  },
  {
   "cell_type": "code",
   "execution_count": 3,
   "metadata": {},
   "outputs": [
    {
     "data": {
      "text/html": [
       "<div>\n",
       "<style scoped>\n",
       "    .dataframe tbody tr th:only-of-type {\n",
       "        vertical-align: middle;\n",
       "    }\n",
       "\n",
       "    .dataframe tbody tr th {\n",
       "        vertical-align: top;\n",
       "    }\n",
       "\n",
       "    .dataframe thead th {\n",
       "        text-align: right;\n",
       "    }\n",
       "</style>\n",
       "<table border=\"1\" class=\"dataframe\">\n",
       "  <thead>\n",
       "    <tr style=\"text-align: right;\">\n",
       "      <th></th>\n",
       "      <th>date</th>\n",
       "      <th>county</th>\n",
       "      <th>state</th>\n",
       "      <th>fips</th>\n",
       "      <th>cases</th>\n",
       "      <th>deaths</th>\n",
       "    </tr>\n",
       "  </thead>\n",
       "  <tbody>\n",
       "    <tr>\n",
       "      <th>0</th>\n",
       "      <td>2020-01-21</td>\n",
       "      <td>Snohomish</td>\n",
       "      <td>Washington</td>\n",
       "      <td>53061.0</td>\n",
       "      <td>1</td>\n",
       "      <td>0</td>\n",
       "    </tr>\n",
       "    <tr>\n",
       "      <th>1</th>\n",
       "      <td>2020-01-22</td>\n",
       "      <td>Snohomish</td>\n",
       "      <td>Washington</td>\n",
       "      <td>53061.0</td>\n",
       "      <td>1</td>\n",
       "      <td>0</td>\n",
       "    </tr>\n",
       "    <tr>\n",
       "      <th>2</th>\n",
       "      <td>2020-01-23</td>\n",
       "      <td>Snohomish</td>\n",
       "      <td>Washington</td>\n",
       "      <td>53061.0</td>\n",
       "      <td>1</td>\n",
       "      <td>0</td>\n",
       "    </tr>\n",
       "    <tr>\n",
       "      <th>3</th>\n",
       "      <td>2020-01-24</td>\n",
       "      <td>Cook</td>\n",
       "      <td>Illinois</td>\n",
       "      <td>17031.0</td>\n",
       "      <td>1</td>\n",
       "      <td>0</td>\n",
       "    </tr>\n",
       "    <tr>\n",
       "      <th>4</th>\n",
       "      <td>2020-01-24</td>\n",
       "      <td>Snohomish</td>\n",
       "      <td>Washington</td>\n",
       "      <td>53061.0</td>\n",
       "      <td>1</td>\n",
       "      <td>0</td>\n",
       "    </tr>\n",
       "  </tbody>\n",
       "</table>\n",
       "</div>"
      ],
      "text/plain": [
       "         date     county       state     fips  cases  deaths\n",
       "0  2020-01-21  Snohomish  Washington  53061.0      1       0\n",
       "1  2020-01-22  Snohomish  Washington  53061.0      1       0\n",
       "2  2020-01-23  Snohomish  Washington  53061.0      1       0\n",
       "3  2020-01-24       Cook    Illinois  17031.0      1       0\n",
       "4  2020-01-24  Snohomish  Washington  53061.0      1       0"
      ]
     },
     "execution_count": 3,
     "metadata": {},
     "output_type": "execute_result"
    }
   ],
   "source": [
    "df = pd.read_csv('us-counties.csv')\n",
    "df.head()"
   ]
  },
  {
   "cell_type": "code",
   "execution_count": 4,
   "metadata": {},
   "outputs": [
    {
     "name": "stdout",
     "output_type": "stream",
     "text": [
      "<class 'pandas.core.frame.DataFrame'>\n",
      "RangeIndex: 369909 entries, 0 to 369908\n",
      "Data columns (total 6 columns):\n",
      " #   Column  Non-Null Count   Dtype  \n",
      "---  ------  --------------   -----  \n",
      " 0   date    369909 non-null  object \n",
      " 1   county  369909 non-null  object \n",
      " 2   state   369909 non-null  object \n",
      " 3   fips    366183 non-null  float64\n",
      " 4   cases   369909 non-null  int64  \n",
      " 5   deaths  369909 non-null  int64  \n",
      "dtypes: float64(1), int64(2), object(3)\n",
      "memory usage: 16.9+ MB\n"
     ]
    }
   ],
   "source": [
    "df.info()"
   ]
  },
  {
   "cell_type": "code",
   "execution_count": 5,
   "metadata": {},
   "outputs": [
    {
     "data": {
      "text/plain": [
       "date        187\n",
       "county     1913\n",
       "state        55\n",
       "fips       3185\n",
       "cases     10932\n",
       "deaths     2005\n",
       "dtype: int64"
      ]
     },
     "execution_count": 5,
     "metadata": {},
     "output_type": "execute_result"
    }
   ],
   "source": [
    "df.nunique()"
   ]
  },
  {
   "cell_type": "code",
   "execution_count": 6,
   "metadata": {},
   "outputs": [],
   "source": [
    "df['date'] = pd.to_datetime(df['date'])"
   ]
  },
  {
   "cell_type": "code",
   "execution_count": 7,
   "metadata": {},
   "outputs": [
    {
     "name": "stderr",
     "output_type": "stream",
     "text": [
      "C:\\Users\\user\\anaconda3\\lib\\site-packages\\pandas\\core\\indexing.py:670: SettingWithCopyWarning: \n",
      "A value is trying to be set on a copy of a slice from a DataFrame\n",
      "\n",
      "See the caveats in the documentation: https://pandas.pydata.org/pandas-docs/stable/user_guide/indexing.html#returning-a-view-versus-a-copy\n",
      "  self._setitem_with_indexer(indexer, value)\n"
     ]
    },
    {
     "data": {
      "text/html": [
       "<div>\n",
       "<style scoped>\n",
       "    .dataframe tbody tr th:only-of-type {\n",
       "        vertical-align: middle;\n",
       "    }\n",
       "\n",
       "    .dataframe tbody tr th {\n",
       "        vertical-align: top;\n",
       "    }\n",
       "\n",
       "    .dataframe thead th {\n",
       "        text-align: right;\n",
       "    }\n",
       "</style>\n",
       "<table border=\"1\" class=\"dataframe\">\n",
       "  <thead>\n",
       "    <tr style=\"text-align: right;\">\n",
       "      <th></th>\n",
       "      <th>date</th>\n",
       "      <th>cases</th>\n",
       "      <th>deaths</th>\n",
       "      <th>new_cases</th>\n",
       "      <th>new_deaths</th>\n",
       "      <th>7day_average_new_cases</th>\n",
       "      <th>7day_average_new_deaths</th>\n",
       "    </tr>\n",
       "  </thead>\n",
       "  <tbody>\n",
       "    <tr>\n",
       "      <th>0</th>\n",
       "      <td>2020-01-21</td>\n",
       "      <td>1</td>\n",
       "      <td>0</td>\n",
       "      <td>1.0</td>\n",
       "      <td>0.0</td>\n",
       "      <td>NaN</td>\n",
       "      <td>NaN</td>\n",
       "    </tr>\n",
       "    <tr>\n",
       "      <th>1</th>\n",
       "      <td>2020-01-22</td>\n",
       "      <td>1</td>\n",
       "      <td>0</td>\n",
       "      <td>0.0</td>\n",
       "      <td>0.0</td>\n",
       "      <td>NaN</td>\n",
       "      <td>NaN</td>\n",
       "    </tr>\n",
       "    <tr>\n",
       "      <th>2</th>\n",
       "      <td>2020-01-23</td>\n",
       "      <td>1</td>\n",
       "      <td>0</td>\n",
       "      <td>0.0</td>\n",
       "      <td>0.0</td>\n",
       "      <td>NaN</td>\n",
       "      <td>NaN</td>\n",
       "    </tr>\n",
       "    <tr>\n",
       "      <th>3</th>\n",
       "      <td>2020-01-24</td>\n",
       "      <td>2</td>\n",
       "      <td>0</td>\n",
       "      <td>1.0</td>\n",
       "      <td>0.0</td>\n",
       "      <td>NaN</td>\n",
       "      <td>NaN</td>\n",
       "    </tr>\n",
       "    <tr>\n",
       "      <th>4</th>\n",
       "      <td>2020-01-25</td>\n",
       "      <td>3</td>\n",
       "      <td>0</td>\n",
       "      <td>1.0</td>\n",
       "      <td>0.0</td>\n",
       "      <td>NaN</td>\n",
       "      <td>NaN</td>\n",
       "    </tr>\n",
       "    <tr>\n",
       "      <th>...</th>\n",
       "      <td>...</td>\n",
       "      <td>...</td>\n",
       "      <td>...</td>\n",
       "      <td>...</td>\n",
       "      <td>...</td>\n",
       "      <td>...</td>\n",
       "      <td>...</td>\n",
       "    </tr>\n",
       "    <tr>\n",
       "      <th>182</th>\n",
       "      <td>2020-07-21</td>\n",
       "      <td>3910398</td>\n",
       "      <td>141851</td>\n",
       "      <td>65274.0</td>\n",
       "      <td>1127.0</td>\n",
       "      <td>66378.285714</td>\n",
       "      <td>809.142857</td>\n",
       "    </tr>\n",
       "    <tr>\n",
       "      <th>183</th>\n",
       "      <td>2020-07-22</td>\n",
       "      <td>3980128</td>\n",
       "      <td>142982</td>\n",
       "      <td>69730.0</td>\n",
       "      <td>1131.0</td>\n",
       "      <td>66569.571429</td>\n",
       "      <td>832.285714</td>\n",
       "    </tr>\n",
       "    <tr>\n",
       "      <th>184</th>\n",
       "      <td>2020-07-23</td>\n",
       "      <td>4050126</td>\n",
       "      <td>144102</td>\n",
       "      <td>69998.0</td>\n",
       "      <td>1120.0</td>\n",
       "      <td>65753.428571</td>\n",
       "      <td>855.571429</td>\n",
       "    </tr>\n",
       "    <tr>\n",
       "      <th>185</th>\n",
       "      <td>2020-07-24</td>\n",
       "      <td>4123651</td>\n",
       "      <td>145239</td>\n",
       "      <td>73525.0</td>\n",
       "      <td>1137.0</td>\n",
       "      <td>66162.714286</td>\n",
       "      <td>890.000000</td>\n",
       "    </tr>\n",
       "    <tr>\n",
       "      <th>186</th>\n",
       "      <td>2020-07-25</td>\n",
       "      <td>4190316</td>\n",
       "      <td>146113</td>\n",
       "      <td>66665.0</td>\n",
       "      <td>874.0</td>\n",
       "      <td>66764.285714</td>\n",
       "      <td>904.285714</td>\n",
       "    </tr>\n",
       "  </tbody>\n",
       "</table>\n",
       "<p>187 rows × 7 columns</p>\n",
       "</div>"
      ],
      "text/plain": [
       "          date    cases  deaths  new_cases  new_deaths  \\\n",
       "0   2020-01-21        1       0        1.0         0.0   \n",
       "1   2020-01-22        1       0        0.0         0.0   \n",
       "2   2020-01-23        1       0        0.0         0.0   \n",
       "3   2020-01-24        2       0        1.0         0.0   \n",
       "4   2020-01-25        3       0        1.0         0.0   \n",
       "..         ...      ...     ...        ...         ...   \n",
       "182 2020-07-21  3910398  141851    65274.0      1127.0   \n",
       "183 2020-07-22  3980128  142982    69730.0      1131.0   \n",
       "184 2020-07-23  4050126  144102    69998.0      1120.0   \n",
       "185 2020-07-24  4123651  145239    73525.0      1137.0   \n",
       "186 2020-07-25  4190316  146113    66665.0       874.0   \n",
       "\n",
       "     7day_average_new_cases  7day_average_new_deaths  \n",
       "0                       NaN                      NaN  \n",
       "1                       NaN                      NaN  \n",
       "2                       NaN                      NaN  \n",
       "3                       NaN                      NaN  \n",
       "4                       NaN                      NaN  \n",
       "..                      ...                      ...  \n",
       "182            66378.285714               809.142857  \n",
       "183            66569.571429               832.285714  \n",
       "184            65753.428571               855.571429  \n",
       "185            66162.714286               890.000000  \n",
       "186            66764.285714               904.285714  \n",
       "\n",
       "[187 rows x 7 columns]"
      ]
     },
     "execution_count": 7,
     "metadata": {},
     "output_type": "execute_result"
    }
   ],
   "source": [
    "daily_df = df.groupby(['date'])[['cases', 'deaths']].sum().reset_index()\n",
    "daily_df['new_cases'] = daily_df['cases'].diff(1)\n",
    "daily_df['new_cases'].iloc[0] = daily_df['cases'].iloc[0]\n",
    "daily_df['new_deaths'] = daily_df['deaths'].diff(1)\n",
    "daily_df['new_deaths'].iloc[0] = daily_df['deaths'].iloc[0]\n",
    "daily_df['7day_average_new_cases'] = daily_df['new_cases'].rolling(7).mean()\n",
    "daily_df['7day_average_new_deaths'] = daily_df['new_deaths'].rolling(7).mean()\n",
    "daily_df"
   ]
  },
  {
   "cell_type": "code",
   "execution_count": 67,
   "metadata": {},
   "outputs": [
    {
     "data": {
      "text/plain": [
       "(4190316, 146113)"
      ]
     },
     "execution_count": 67,
     "metadata": {},
     "output_type": "execute_result"
    }
   ],
   "source": [
    "total_cases = daily_df['cases'].max()\n",
    "total_deaths = daily_df['deaths'].max()\n",
    "total_cases, total_deaths"
   ]
  },
  {
   "cell_type": "code",
   "execution_count": 8,
   "metadata": {},
   "outputs": [
    {
     "name": "stdout",
     "output_type": "stream",
     "text": [
      "<class 'pandas.core.frame.DataFrame'>\n",
      "RangeIndex: 187 entries, 0 to 186\n",
      "Data columns (total 7 columns):\n",
      " #   Column                   Non-Null Count  Dtype         \n",
      "---  ------                   --------------  -----         \n",
      " 0   date                     187 non-null    datetime64[ns]\n",
      " 1   cases                    187 non-null    int64         \n",
      " 2   deaths                   187 non-null    int64         \n",
      " 3   new_cases                187 non-null    float64       \n",
      " 4   new_deaths               187 non-null    float64       \n",
      " 5   7day_average_new_cases   181 non-null    float64       \n",
      " 6   7day_average_new_deaths  181 non-null    float64       \n",
      "dtypes: datetime64[ns](1), float64(4), int64(2)\n",
      "memory usage: 10.4 KB\n"
     ]
    }
   ],
   "source": [
    "daily_df['date'] = pd.to_datetime(daily_df['date'])\n",
    "daily_df.info()"
   ]
  },
  {
   "cell_type": "code",
   "execution_count": 9,
   "metadata": {},
   "outputs": [],
   "source": [
    "def decummulation(row):\n",
    "    row['new_cases'] = row['cases'].diff(1)\n",
    "    row['new_cases'].iloc[0] = row['cases'].iloc[0]\n",
    "    row['new_deaths'] = row['deaths'].diff(1)\n",
    "    row['new_deaths'].iloc[0] = row['deaths'].iloc[0]\n",
    "    row['7day_avg_new_cases'] = row['new_cases'].rolling(7).mean()\n",
    "    row['7day_avg_new_cases'].iloc[0:6] = row['new_cases'].iloc[0:6]\n",
    "    row['7day_avg_new_deaths'] = row['new_deaths'].rolling(7).mean()\n",
    "    row['7day_avg_new_deaths'].iloc[0:6] = row['new_deaths'].iloc[0:6]\n",
    "    return row"
   ]
  },
  {
   "cell_type": "code",
   "execution_count": 10,
   "metadata": {},
   "outputs": [
    {
     "data": {
      "text/html": [
       "<div>\n",
       "<style scoped>\n",
       "    .dataframe tbody tr th:only-of-type {\n",
       "        vertical-align: middle;\n",
       "    }\n",
       "\n",
       "    .dataframe tbody tr th {\n",
       "        vertical-align: top;\n",
       "    }\n",
       "\n",
       "    .dataframe thead th {\n",
       "        text-align: right;\n",
       "    }\n",
       "</style>\n",
       "<table border=\"1\" class=\"dataframe\">\n",
       "  <thead>\n",
       "    <tr style=\"text-align: right;\">\n",
       "      <th></th>\n",
       "      <th>index</th>\n",
       "      <th>date</th>\n",
       "      <th>state</th>\n",
       "      <th>cases</th>\n",
       "      <th>deaths</th>\n",
       "      <th>new_cases</th>\n",
       "      <th>new_deaths</th>\n",
       "      <th>7day_avg_new_cases</th>\n",
       "      <th>7day_avg_new_deaths</th>\n",
       "    </tr>\n",
       "  </thead>\n",
       "  <tbody>\n",
       "    <tr>\n",
       "      <th>586</th>\n",
       "      <td>586</td>\n",
       "      <td>2020-03-13</td>\n",
       "      <td>Alabama</td>\n",
       "      <td>6</td>\n",
       "      <td>0</td>\n",
       "      <td>6.0</td>\n",
       "      <td>0.0</td>\n",
       "      <td>6.000000</td>\n",
       "      <td>0.000000</td>\n",
       "    </tr>\n",
       "    <tr>\n",
       "      <th>637</th>\n",
       "      <td>637</td>\n",
       "      <td>2020-03-14</td>\n",
       "      <td>Alabama</td>\n",
       "      <td>12</td>\n",
       "      <td>0</td>\n",
       "      <td>6.0</td>\n",
       "      <td>0.0</td>\n",
       "      <td>6.000000</td>\n",
       "      <td>0.000000</td>\n",
       "    </tr>\n",
       "    <tr>\n",
       "      <th>689</th>\n",
       "      <td>689</td>\n",
       "      <td>2020-03-15</td>\n",
       "      <td>Alabama</td>\n",
       "      <td>23</td>\n",
       "      <td>0</td>\n",
       "      <td>11.0</td>\n",
       "      <td>0.0</td>\n",
       "      <td>11.000000</td>\n",
       "      <td>0.000000</td>\n",
       "    </tr>\n",
       "    <tr>\n",
       "      <th>742</th>\n",
       "      <td>742</td>\n",
       "      <td>2020-03-16</td>\n",
       "      <td>Alabama</td>\n",
       "      <td>29</td>\n",
       "      <td>0</td>\n",
       "      <td>6.0</td>\n",
       "      <td>0.0</td>\n",
       "      <td>6.000000</td>\n",
       "      <td>0.000000</td>\n",
       "    </tr>\n",
       "    <tr>\n",
       "      <th>795</th>\n",
       "      <td>795</td>\n",
       "      <td>2020-03-17</td>\n",
       "      <td>Alabama</td>\n",
       "      <td>39</td>\n",
       "      <td>0</td>\n",
       "      <td>10.0</td>\n",
       "      <td>0.0</td>\n",
       "      <td>10.000000</td>\n",
       "      <td>0.000000</td>\n",
       "    </tr>\n",
       "    <tr>\n",
       "      <th>...</th>\n",
       "      <td>...</td>\n",
       "      <td>...</td>\n",
       "      <td>...</td>\n",
       "      <td>...</td>\n",
       "      <td>...</td>\n",
       "      <td>...</td>\n",
       "      <td>...</td>\n",
       "      <td>...</td>\n",
       "      <td>...</td>\n",
       "    </tr>\n",
       "    <tr>\n",
       "      <th>7768</th>\n",
       "      <td>7768</td>\n",
       "      <td>2020-07-21</td>\n",
       "      <td>Wyoming</td>\n",
       "      <td>2238</td>\n",
       "      <td>25</td>\n",
       "      <td>51.0</td>\n",
       "      <td>1.0</td>\n",
       "      <td>41.000000</td>\n",
       "      <td>0.428571</td>\n",
       "    </tr>\n",
       "    <tr>\n",
       "      <th>7823</th>\n",
       "      <td>7823</td>\n",
       "      <td>2020-07-22</td>\n",
       "      <td>Wyoming</td>\n",
       "      <td>2288</td>\n",
       "      <td>25</td>\n",
       "      <td>50.0</td>\n",
       "      <td>0.0</td>\n",
       "      <td>43.285714</td>\n",
       "      <td>0.428571</td>\n",
       "    </tr>\n",
       "    <tr>\n",
       "      <th>7878</th>\n",
       "      <td>7878</td>\n",
       "      <td>2020-07-23</td>\n",
       "      <td>Wyoming</td>\n",
       "      <td>2347</td>\n",
       "      <td>25</td>\n",
       "      <td>59.0</td>\n",
       "      <td>0.0</td>\n",
       "      <td>45.857143</td>\n",
       "      <td>0.142857</td>\n",
       "    </tr>\n",
       "    <tr>\n",
       "      <th>7933</th>\n",
       "      <td>7933</td>\n",
       "      <td>2020-07-24</td>\n",
       "      <td>Wyoming</td>\n",
       "      <td>2405</td>\n",
       "      <td>25</td>\n",
       "      <td>58.0</td>\n",
       "      <td>0.0</td>\n",
       "      <td>48.000000</td>\n",
       "      <td>0.142857</td>\n",
       "    </tr>\n",
       "    <tr>\n",
       "      <th>7988</th>\n",
       "      <td>7988</td>\n",
       "      <td>2020-07-25</td>\n",
       "      <td>Wyoming</td>\n",
       "      <td>2446</td>\n",
       "      <td>25</td>\n",
       "      <td>41.0</td>\n",
       "      <td>0.0</td>\n",
       "      <td>48.285714</td>\n",
       "      <td>0.142857</td>\n",
       "    </tr>\n",
       "  </tbody>\n",
       "</table>\n",
       "<p>7989 rows × 9 columns</p>\n",
       "</div>"
      ],
      "text/plain": [
       "      index       date    state  cases  deaths  new_cases  new_deaths  \\\n",
       "586     586 2020-03-13  Alabama      6       0        6.0         0.0   \n",
       "637     637 2020-03-14  Alabama     12       0        6.0         0.0   \n",
       "689     689 2020-03-15  Alabama     23       0       11.0         0.0   \n",
       "742     742 2020-03-16  Alabama     29       0        6.0         0.0   \n",
       "795     795 2020-03-17  Alabama     39       0       10.0         0.0   \n",
       "...     ...        ...      ...    ...     ...        ...         ...   \n",
       "7768   7768 2020-07-21  Wyoming   2238      25       51.0         1.0   \n",
       "7823   7823 2020-07-22  Wyoming   2288      25       50.0         0.0   \n",
       "7878   7878 2020-07-23  Wyoming   2347      25       59.0         0.0   \n",
       "7933   7933 2020-07-24  Wyoming   2405      25       58.0         0.0   \n",
       "7988   7988 2020-07-25  Wyoming   2446      25       41.0         0.0   \n",
       "\n",
       "      7day_avg_new_cases  7day_avg_new_deaths  \n",
       "586             6.000000             0.000000  \n",
       "637             6.000000             0.000000  \n",
       "689            11.000000             0.000000  \n",
       "742             6.000000             0.000000  \n",
       "795            10.000000             0.000000  \n",
       "...                  ...                  ...  \n",
       "7768           41.000000             0.428571  \n",
       "7823           43.285714             0.428571  \n",
       "7878           45.857143             0.142857  \n",
       "7933           48.000000             0.142857  \n",
       "7988           48.285714             0.142857  \n",
       "\n",
       "[7989 rows x 9 columns]"
      ]
     },
     "execution_count": 10,
     "metadata": {},
     "output_type": "execute_result"
    }
   ],
   "source": [
    "df_states = df.groupby(['date','state'])[['cases', 'deaths']].sum().reset_index()\n",
    "df_states = df_states.groupby('state').apply(decummulation).reset_index()\n",
    "df_states = df_states.sort_values(['state', 'date'], ascending=[True, True])\n",
    "df_states"
   ]
  },
  {
   "cell_type": "code",
   "execution_count": 11,
   "metadata": {},
   "outputs": [
    {
     "data": {
      "text/plain": [
       "index                  0\n",
       "date                   0\n",
       "state                  0\n",
       "cases                  0\n",
       "deaths                 0\n",
       "new_cases              0\n",
       "new_deaths             0\n",
       "7day_avg_new_cases     0\n",
       "7day_avg_new_deaths    0\n",
       "dtype: int64"
      ]
     },
     "execution_count": 11,
     "metadata": {},
     "output_type": "execute_result"
    }
   ],
   "source": [
    "df_states.isna().sum()"
   ]
  },
  {
   "cell_type": "code",
   "execution_count": 12,
   "metadata": {},
   "outputs": [
    {
     "data": {
      "text/plain": [
       "array(['California', 'New York', 'Florida', 'Texas', 'New Jersey'],\n",
       "      dtype=object)"
      ]
     },
     "execution_count": 12,
     "metadata": {},
     "output_type": "execute_result"
    }
   ],
   "source": [
    "top_case_states_df = df_states.groupby('state')['cases'].nlargest(1).nlargest(5).reset_index('state')\n",
    "top_case_states = top_case_states_df['state'].values\n",
    "top_case_states"
   ]
  },
  {
   "cell_type": "code",
   "execution_count": 14,
   "metadata": {},
   "outputs": [],
   "source": [
    "top_case_states_list = [df_states[df_states['state']==st] for st in top_case_states] "
   ]
  },
  {
   "cell_type": "code",
   "execution_count": 15,
   "metadata": {},
   "outputs": [
    {
     "data": {
      "text/plain": [
       "array(['New York', 'New Jersey', 'Massachusetts', 'California',\n",
       "       'Illinois'], dtype=object)"
      ]
     },
     "execution_count": 15,
     "metadata": {},
     "output_type": "execute_result"
    }
   ],
   "source": [
    "top_death_states_df = df_states.groupby('state')['deaths'].nlargest(1).nlargest(5).reset_index('state')\n",
    "top_death_states = top_death_states_df['state'].values\n",
    "top_death_states"
   ]
  },
  {
   "cell_type": "code",
   "execution_count": 16,
   "metadata": {},
   "outputs": [],
   "source": [
    "top_death_states_list = [df_states[df_states['state']==st] for st in top_death_states] "
   ]
  },
  {
   "cell_type": "code",
   "execution_count": 110,
   "metadata": {},
   "outputs": [
    {
     "data": {
      "image/png": "[encoded data removed]",
      "text/plain": [
       "<Figure size 1440x720 with 2 Axes>"
      ]
     },
     "metadata": {
      "needs_background": "light"
     },
     "output_type": "display_data"
    }
   ],
   "source": [
    "fig, (ax1, ax2) = plt.subplots(1, 2, figsize=(20, 10), sharex=True)\n",
    "plt.suptitle('US COVID-19 Data On Daily Basis (Till July 25, 2020)')\n",
    "ax1.plot(daily_df['date'], daily_df['7day_average_new_cases'], c='red', label='7 Day Moving Average')\n",
    "ax1.bar(daily_df['date'], daily_df['new_cases'], color='dodgerblue')\n",
    "colors = ['lime', 'magenta', 'gold', 'black', 'cyan']\n",
    "for i, ts in enumerate(top_case_states_list):\n",
    "    prop = round(ts['cases'].max()/total_cases*100, 2)\n",
    "    ax1.plot(ts['date'], ts['7day_avg_new_cases'], c=colors[i], label=top_case_states[i] + ' ({} %)'.format(prop))\n",
    "ax1.set_title('New Cases')\n",
    "ax1.legend(title='States With Most Cases', frameon=False)\n",
    "ax1.set_xlabel('Date')\n",
    "ax1.spines['top'].set_visible(False)\n",
    "ax1.spines['bottom'].set_visible(False)\n",
    "ax1.spines['right'].set_visible(False)\n",
    "# ax1.set_xticks(daily_cases['date'])\n",
    "ax1.xaxis.set_major_formatter(mdates.DateFormatter('%d-%b'))\n",
    "# ax.xaxis.set_major_locator(mdates.MonthLocator())\n",
    "# ax.xaxis.set_minor_locator(mdates.DayLocator(interval=7))\n",
    "\n",
    "ax2.plot(daily_df['date'], daily_df['7day_average_new_deaths'], c='red', label='7 Day Moving Average')\n",
    "ax2.bar(daily_df['date'], daily_df['new_deaths'], color='dodgerblue')\n",
    "for i, ts in enumerate(top_death_states_list):\n",
    "    prop = round(ts['deaths'].max()/total_deaths*100, 2)\n",
    "    ax2.plot(ts['date'], ts['7day_avg_new_deaths'], c=colors[i], label=top_death_states[i]+ ' ({} %)'.format(prop))\n",
    "ax2.set_title('New Deaths')\n",
    "ax2.legend(title='States With Most Deaths', frameon=False)\n",
    "ax2.set_xlabel('Date')\n",
    "ax2.spines['top'].set_visible(False)\n",
    "ax2.spines['bottom'].set_visible(False)\n",
    "ax2.spines['right'].set_visible(False)\n",
    "# ax2.set_xticks(daily_cases['date'])\n",
    "ax2.xaxis.set_major_formatter(mdates.DateFormatter('%d-%b'))\n",
    "# ax.xaxis.set_major_locator(mdates.MonthLocator())\n",
    "# ax.xaxis.set_minor_locator(mdates.DayLocator(interval=7))\n",
    "plt.savefig('US_COVID-19.png')\n",
    "plt.show()"
   ]
  }
 ],
 "metadata": {
  "kernelspec": {
   "display_name": "Python 3",
   "language": "python",
   "name": "python3"
  },
  "language_info": {
   "codemirror_mode": {
    "name": "ipython",
    "version": 3
   },
   "file_extension": ".py",
   "mimetype": "text/x-python",
   "name": "python",
   "nbconvert_exporter": "python",
   "pygments_lexer": "ipython3",
   "version": "3.7.6"
  }
 },
 "nbformat": 4,
 "nbformat_minor": 4
}
